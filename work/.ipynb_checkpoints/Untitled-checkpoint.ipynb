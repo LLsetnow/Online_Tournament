{
 "cells": [
  {
   "cell_type": "code",
   "execution_count": 1,
   "id": "d2c26e26",
   "metadata": {},
   "outputs": [],
   "source": [
    "# 生成训练集目录 和 测试集目录（图像和标签的文件路径）\n",
    "# train.txt val.txt\n",
    "\n",
    "import os\n",
    "\n",
    "#生成train.txt\n",
    "xml_dir  = 'D:/github/Online_Tournament/Car2024/annotations'\n",
    "img_dir = 'D:/github/Online_Tournament/Car2024/images'\n",
    "path_list = list()\n",
    "\n",
    "# img 文件名\n",
    "for img in os.listdir(img_dir):\n",
    "    img_path = os.path.join(img_dir,img)\n",
    "    xml_path = os.path.join(xml_dir,img.replace('jpg', 'xml'))\n",
    "    path_list.append((img_path, xml_path))\n",
    "\n",
    "train_f = open('D:/github/Online_Tournament/Car2024/train.txt', 'w')\n",
    "val_f = open('D:/github/Online_Tournament/Car2024/val.txt', 'w')\n",
    "\n",
    "for i ,content in enumerate(path_list):\n",
    "    img, xml = content\n",
    "    text = img + ' ' + xml + '\\n'\n",
    "    if i % 5 == 0:\n",
    "        val_f.write(text)\n",
    "    else:\n",
    "        train_f.write(text)\n",
    "train_f.close()\n",
    "val_f.close()\n"
   ]
  },
  {
   "cell_type": "code",
   "execution_count": 3,
   "id": "92544584",
   "metadata": {},
   "outputs": [
    {
     "name": "stderr",
     "output_type": "stream",
     "text": [
      "Traceback (most recent call last):\n",
      "  File \"D:\\github\\Online_Tournament\\work\\x2coco.py\", line 28, in <module>\n",
      "    import cv2\n",
      "ModuleNotFoundError: No module named 'cv2'\n",
      "Traceback (most recent call last):\n",
      "  File \"D:\\github\\Online_Tournament\\work\\x2coco.py\", line 28, in <module>\n",
      "    import cv2\n",
      "ModuleNotFoundError: No module named 'cv2'\n"
     ]
    }
   ],
   "source": [
    "# 生成训练集\n",
    "!python D:/github/Online_Tournament/work/x2coco.py \\\n",
    "    --dataset_type voc \\\n",
    "    --voc_anno_dir \"‪D:\\github\\Online_Tournament\\Car2024\\annotations\" \\\n",
    "    --voc_anno_list \"‪D:\\github\\Online_Tournament\\Car2024\\train.txt\" \\\n",
    "    --voc_label_list \"‪D:\\github\\Online_Tournament\\Car2024\\label_list.txt\" \\\n",
    "    --voc_out_name \"‪D:\\github\\Online_Tournament\\Car2024\\train.json\"\n",
    "\n",
    "# 生成验证集\n",
    "!python D:/github/Online_Tournament/work/x2coco.py \\\n",
    "    --dataset_type voc \\\n",
    "    --voc_anno_dir \"‪D:\\github\\Online_Tournament\\Car2024\\annotations/\" \\\n",
    "    --voc_anno_list \"‪D:\\github\\Online_Tournament\\Car2024\\val.txt\" \\\n",
    "    --voc_label_list \"‪D:\\github\\Online_Tournament\\Car2024\\label_list.txt\" \\\n",
    "    --voc_out_name \"‪D:\\github\\Online_Tournament\\Car2024\\val.json\"\n"
   ]
  }
 ],
 "metadata": {
  "kernelspec": {
   "display_name": "paddle_222",
   "language": "python",
   "name": "paddle_222"
  },
  "language_info": {
   "codemirror_mode": {
    "name": "ipython",
    "version": 3
   },
   "file_extension": ".py",
   "mimetype": "text/x-python",
   "name": "python",
   "nbconvert_exporter": "python",
   "pygments_lexer": "ipython3",
   "version": "3.7.4"
  }
 },
 "nbformat": 4,
 "nbformat_minor": 5
}

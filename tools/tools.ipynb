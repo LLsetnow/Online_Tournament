{
 "cells": [
  {
   "cell_type": "markdown",
   "id": "b72398b4",
   "metadata": {},
   "source": [
    "## 数据集处理"
   ]
  },
  {
   "cell_type": "markdown",
   "id": "c28f525a",
   "metadata": {},
   "source": [
    "## voc数据集转coco数据集"
   ]
  },
  {
   "cell_type": "code",
   "execution_count": null,
   "id": "18abfacb",
   "metadata": {},
   "outputs": [],
   "source": [
    "%cd/d D:\\github\\Online_Tournament\\PaddleDetection-2.5\n",
    "!python tools/x2coco.py ^\n",
    "        --dataset_type voc ^\n",
    "        --voc_anno_dir D:\\github\\Online_Tournament\\my_dataset\\v2 ^\n",
    "        --voc_anno_list D:\\github\\Online_Tournament\\my_dataset\\v2\\val.txt ^\n",
    "        --voc_label_list D:\\github\\Online_Tournament\\my_dataset\\v2\\label_list.txt ^\n",
    "        --voc_out_name D:\\github\\Online_Tournament\\my_dataset\\v2\\val.json"
   ]
  },
  {
   "cell_type": "markdown",
   "id": "0cb78b2d",
   "metadata": {},
   "source": [
    "### 数据集可视化"
   ]
  },
  {
   "cell_type": "code",
   "execution_count": null,
   "id": "a438cf16",
   "metadata": {},
   "outputs": [],
   "source": [
    "!python visual_dataset.py ^\n",
    "        --input D:\\github\\Online_Tournament\\my_dataset\\DatasetVocSASU_ForIcarM2023\\output_rename ^\n",
    "        --input_anno D:\\github\\Online_Tournament\\my_dataset\\DatasetVocSASU_ForIcarM2023\\output_rename ^\n",
    "        --output D:\\github\\Online_Tournament\\my_dataset\\DatasetVocSASU_ForIcarM2023\\output_visual ^\n",
    "        --num 512"
   ]
  },
  {
   "cell_type": "markdown",
   "id": "b1e0cdd9",
   "metadata": {},
   "source": [
    "### 数据集路径写入all.txt(全部图像)"
   ]
  },
  {
   "cell_type": "code",
   "execution_count": null,
   "id": "de12d2d7",
   "metadata": {},
   "outputs": [],
   "source": [
    "!python dataset_all2txt.py -i D:\\github\\Online_Tournament\\my_dataset\\v2"
   ]
  },
  {
   "cell_type": "markdown",
   "id": "2af24e82",
   "metadata": {},
   "source": [
    "### 数据集路径写入txt"
   ]
  },
  {
   "cell_type": "code",
   "execution_count": null,
   "id": "9d27b757",
   "metadata": {},
   "outputs": [],
   "source": [
    "!python dataset.py -i D:\\github\\Online_Tournament\\my_dataset\\v2"
   ]
  },
  {
   "cell_type": "markdown",
   "id": "9c187969",
   "metadata": {},
   "source": [
    "### 数据集路径转预测集路径(已弃用)"
   ]
  },
  {
   "cell_type": "code",
   "execution_count": null,
   "id": "6aee96cd",
   "metadata": {},
   "outputs": [],
   "source": [
    "!python data2predict.py -i D:\\github\\Online_Tournament\\my_dataset\\v2\\train.txt ^\n",
    "                        -o D:\\github\\Online_Tournament\\submmison\\my_submmison\\train.txt\n",
    "!python data2predict.py -i D:\\github\\Online_Tournament\\my_dataset\\v2\\val.txt ^\n",
    "                        -o D:\\github\\Online_Tournament\\submmison\\my_submmison\\val.txt\n",
    "%cd/d D:\\github\\Online_Tournament\\tools"
   ]
  },
  {
   "cell_type": "markdown",
   "id": "b109c046",
   "metadata": {},
   "source": [
    "### 添加数据集重命名"
   ]
  },
  {
   "cell_type": "code",
   "execution_count": null,
   "id": "44e65fe8",
   "metadata": {},
   "outputs": [],
   "source": [
    "!python rename_images.py ^\n",
    "        --input=D:\\github\\Online_Tournament\\my_dataset\\18_voc_dataset\\choose ^\n",
    "        --output=D:\\github\\Online_Tournament\\my_dataset\\18_voc_dataset\\output"
   ]
  },
  {
   "cell_type": "markdown",
   "id": "3d07b4e1",
   "metadata": {},
   "source": [
    "### 数据集实例个数统计"
   ]
  },
  {
   "cell_type": "code",
   "execution_count": null,
   "id": "8dc16ac3",
   "metadata": {},
   "outputs": [],
   "source": [
    "!python dataset_count.py -i D:\\github\\Online_Tournament\\my_dataset\\v2"
   ]
  },
  {
   "cell_type": "markdown",
   "id": "5df4d826",
   "metadata": {},
   "source": [
    "## 预测结果分析"
   ]
  },
  {
   "cell_type": "markdown",
   "id": "cd7b5788",
   "metadata": {},
   "source": [
    "### 预测"
   ]
  },
  {
   "cell_type": "code",
   "execution_count": null,
   "id": "028e1621",
   "metadata": {},
   "outputs": [],
   "source": [
    "%cd/d D:\\github\\Online_Tournament\\submmison\n",
    "!python predict.py data.txt result.json"
   ]
  },
  {
   "cell_type": "markdown",
   "id": "a7934060",
   "metadata": {},
   "source": [
    "### 模型预测可视化"
   ]
  },
  {
   "cell_type": "code",
   "execution_count": null,
   "id": "ecff4d20",
   "metadata": {},
   "outputs": [],
   "source": [
    "%cd/d D:\\github\\Online_Tournament\\PaddleDetection-2.5\n",
    "\n",
    "!python tools/infer.py ^\n",
    "    -c configs/yolov3/yolov3_mobilenet_v1_ssld_270e_voc.yml ^\n",
    "    -o weights=output/yolov3_mobilenet_v1_ssld_270e_voc/bp9991.pdparams ^\n",
    "    --infer_dir=D:\\github\\Online_Tournament\\my_dataset\\v2\\images ^\n",
    "    --output_dir=D:\\github\\Online_Tournament\\photo\\images_predict"
   ]
  },
  {
   "cell_type": "markdown",
   "id": "baa62b64",
   "metadata": {},
   "source": [
    "### 对比数据集和预测结果\n"
   ]
  },
  {
   "cell_type": "code",
   "execution_count": 1,
   "id": "c5af6abe",
   "metadata": {},
   "outputs": [],
   "source": [
    "!python check.py"
   ]
  },
  {
   "cell_type": "markdown",
   "id": "0625b9a6",
   "metadata": {},
   "source": [
    "### 预测阈值枚举"
   ]
  },
  {
   "cell_type": "code",
   "execution_count": 27,
   "id": "976f9269",
   "metadata": {},
   "outputs": [
    {
     "name": "stderr",
     "output_type": "stream",
     "text": [
      "Traceback (most recent call last):\n",
      "  File \"D:\\github\\Online_Tournament\\tools\\threshold_count.py\", line 15, in <module>\n",
      "    import cv2\n",
      "ModuleNotFoundError: No module named 'cv2'\n"
     ]
    }
   ],
   "source": [
    "!python threshold_count.py \\\n",
    "--model=D:\\github\\Online_Tournament\\model\\model97178_yolov3_mobilenet_v1_ssld_270e_voc \\\n",
    "--dataset=D:\\github\\Online_Tournament\\my_dataset\\v2 \\\n",
    "--output=D:\\github\\Online_Tournament\\model\\model97178_yolov3_mobilenet_v1_ssld_270e_voc \\\n",
    "--start_threshold=0.0 \\\n",
    "--end_threshold=1.0 \\\n",
    "--step=0.01"
   ]
  },
  {
   "cell_type": "code",
   "execution_count": 28,
   "id": "e049b033",
   "metadata": {},
   "outputs": [
    {
     "ename": "ImportError",
     "evalue": "\n\nIMPORTANT: PLEASE READ THIS FOR ADVICE ON HOW TO SOLVE THIS ISSUE!\n\nImporting the numpy C-extensions failed. This error can happen for\nmany reasons, often due to issues with your setup or how NumPy was\ninstalled.\n\nWe have compiled some common reasons and troubleshooting tips at:\n\n    https://numpy.org/devdocs/user/troubleshooting-importerror.html\n\nPlease note and check the following:\n\n  * The Python version is: Python3.7 from \"E:\\anaconda3\\envs\\paddle_11.2\\python.exe\"\n  * The NumPy version is: \"1.21.6\"\n\nand make sure that they are the versions you expect.\nPlease carefully study the documentation linked above for further help.\n\nOriginal error was: DLL load failed: 找不到指定的模块。\n",
     "output_type": "error",
     "traceback": [
      "\u001b[1;31m---------------------------------------------------------------------------\u001b[0m",
      "\u001b[1;31mImportError\u001b[0m                               Traceback (most recent call last)",
      "\u001b[1;32mE:\\anaconda3\\envs\\paddle_11.2\\lib\\site-packages\\numpy\\core\\__init__.py\u001b[0m in \u001b[0;36m<module>\u001b[1;34m\u001b[0m\n\u001b[0;32m     21\u001b[0m \u001b[1;32mtry\u001b[0m\u001b[1;33m:\u001b[0m\u001b[1;33m\u001b[0m\u001b[1;33m\u001b[0m\u001b[0m\n\u001b[1;32m---> 22\u001b[1;33m     \u001b[1;32mfrom\u001b[0m \u001b[1;33m.\u001b[0m \u001b[1;32mimport\u001b[0m \u001b[0mmultiarray\u001b[0m\u001b[1;33m\u001b[0m\u001b[1;33m\u001b[0m\u001b[0m\n\u001b[0m\u001b[0;32m     23\u001b[0m \u001b[1;32mexcept\u001b[0m \u001b[0mImportError\u001b[0m \u001b[1;32mas\u001b[0m \u001b[0mexc\u001b[0m\u001b[1;33m:\u001b[0m\u001b[1;33m\u001b[0m\u001b[1;33m\u001b[0m\u001b[0m\n",
      "\u001b[1;32mE:\\anaconda3\\envs\\paddle_11.2\\lib\\site-packages\\numpy\\core\\multiarray.py\u001b[0m in \u001b[0;36m<module>\u001b[1;34m\u001b[0m\n\u001b[0;32m     11\u001b[0m \u001b[1;33m\u001b[0m\u001b[0m\n\u001b[1;32m---> 12\u001b[1;33m \u001b[1;32mfrom\u001b[0m \u001b[1;33m.\u001b[0m \u001b[1;32mimport\u001b[0m \u001b[0moverrides\u001b[0m\u001b[1;33m\u001b[0m\u001b[1;33m\u001b[0m\u001b[0m\n\u001b[0m\u001b[0;32m     13\u001b[0m \u001b[1;32mfrom\u001b[0m \u001b[1;33m.\u001b[0m \u001b[1;32mimport\u001b[0m \u001b[0m_multiarray_umath\u001b[0m\u001b[1;33m\u001b[0m\u001b[1;33m\u001b[0m\u001b[0m\n",
      "\u001b[1;32mE:\\anaconda3\\envs\\paddle_11.2\\lib\\site-packages\\numpy\\core\\overrides.py\u001b[0m in \u001b[0;36m<module>\u001b[1;34m\u001b[0m\n\u001b[0;32m      6\u001b[0m \u001b[1;33m\u001b[0m\u001b[0m\n\u001b[1;32m----> 7\u001b[1;33m from numpy.core._multiarray_umath import (\n\u001b[0m\u001b[0;32m      8\u001b[0m     add_docstring, implement_array_function, _get_implementing_args)\n",
      "\u001b[1;31mImportError\u001b[0m: DLL load failed: 找不到指定的模块。",
      "\nDuring handling of the above exception, another exception occurred:\n",
      "\u001b[1;31mImportError\u001b[0m                               Traceback (most recent call last)",
      "\u001b[1;32mC:\\usertemp\\ipykernel_6184\\3490609542.py\u001b[0m in \u001b[0;36m<module>\u001b[1;34m\u001b[0m\n\u001b[1;32m----> 1\u001b[1;33m \u001b[1;32mimport\u001b[0m \u001b[0mpaddle\u001b[0m\u001b[1;33m\u001b[0m\u001b[1;33m\u001b[0m\u001b[0m\n\u001b[0m",
      "\u001b[1;32mE:\\anaconda3\\envs\\paddle_11.2\\lib\\site-packages\\paddle\\__init__.py\u001b[0m in \u001b[0;36m<module>\u001b[1;34m\u001b[0m\n\u001b[0;32m     23\u001b[0m \u001b[1;33m\u001b[0m\u001b[0m\n\u001b[0;32m     24\u001b[0m \u001b[1;32mfrom\u001b[0m \u001b[1;33m.\u001b[0m\u001b[0mbatch\u001b[0m \u001b[1;32mimport\u001b[0m \u001b[0mbatch\u001b[0m  \u001b[1;31m# noqa: F401\u001b[0m\u001b[1;33m\u001b[0m\u001b[1;33m\u001b[0m\u001b[0m\n\u001b[1;32m---> 25\u001b[1;33m \u001b[1;32mfrom\u001b[0m \u001b[1;33m.\u001b[0m\u001b[0mfluid\u001b[0m \u001b[1;32mimport\u001b[0m \u001b[0mmonkey_patch_variable\u001b[0m\u001b[1;33m\u001b[0m\u001b[1;33m\u001b[0m\u001b[0m\n\u001b[0m\u001b[0;32m     26\u001b[0m \u001b[1;32mfrom\u001b[0m \u001b[1;33m.\u001b[0m\u001b[0mfluid\u001b[0m\u001b[1;33m.\u001b[0m\u001b[0mdygraph\u001b[0m \u001b[1;32mimport\u001b[0m \u001b[0mmonkey_patch_math_varbase\u001b[0m\u001b[1;33m\u001b[0m\u001b[1;33m\u001b[0m\u001b[0m\n\u001b[0;32m     27\u001b[0m \u001b[0mmonkey_patch_variable\u001b[0m\u001b[1;33m(\u001b[0m\u001b[1;33m)\u001b[0m\u001b[1;33m\u001b[0m\u001b[1;33m\u001b[0m\u001b[0m\n",
      "\u001b[1;32mE:\\anaconda3\\envs\\paddle_11.2\\lib\\site-packages\\paddle\\fluid\\__init__.py\u001b[0m in \u001b[0;36m<module>\u001b[1;34m\u001b[0m\n\u001b[0;32m     34\u001b[0m \u001b[1;33m\u001b[0m\u001b[0m\n\u001b[0;32m     35\u001b[0m \u001b[1;31m# import all class inside framework into fluid module\u001b[0m\u001b[1;33m\u001b[0m\u001b[1;33m\u001b[0m\u001b[1;33m\u001b[0m\u001b[0m\n\u001b[1;32m---> 36\u001b[1;33m \u001b[1;32mfrom\u001b[0m \u001b[1;33m.\u001b[0m \u001b[1;32mimport\u001b[0m \u001b[0mframework\u001b[0m\u001b[1;33m\u001b[0m\u001b[1;33m\u001b[0m\u001b[0m\n\u001b[0m\u001b[0;32m     37\u001b[0m \u001b[1;32mfrom\u001b[0m \u001b[1;33m.\u001b[0m\u001b[0mframework\u001b[0m \u001b[1;32mimport\u001b[0m \u001b[1;33m*\u001b[0m\u001b[1;33m\u001b[0m\u001b[1;33m\u001b[0m\u001b[0m\n\u001b[0;32m     38\u001b[0m \u001b[1;31m# import all class inside executor into fluid module\u001b[0m\u001b[1;33m\u001b[0m\u001b[1;33m\u001b[0m\u001b[1;33m\u001b[0m\u001b[0m\n",
      "\u001b[1;32mE:\\anaconda3\\envs\\paddle_11.2\\lib\\site-packages\\paddle\\fluid\\framework.py\u001b[0m in \u001b[0;36m<module>\u001b[1;34m\u001b[0m\n\u001b[0;32m     27\u001b[0m \u001b[1;32mfrom\u001b[0m \u001b[0mtypes\u001b[0m \u001b[1;32mimport\u001b[0m \u001b[0mMethodType\u001b[0m\u001b[1;33m,\u001b[0m \u001b[0mFunctionType\u001b[0m\u001b[1;33m\u001b[0m\u001b[1;33m\u001b[0m\u001b[0m\n\u001b[0;32m     28\u001b[0m \u001b[1;33m\u001b[0m\u001b[0m\n\u001b[1;32m---> 29\u001b[1;33m \u001b[1;32mimport\u001b[0m \u001b[0mnumpy\u001b[0m \u001b[1;32mas\u001b[0m \u001b[0mnp\u001b[0m\u001b[1;33m\u001b[0m\u001b[1;33m\u001b[0m\u001b[0m\n\u001b[0m\u001b[0;32m     30\u001b[0m \u001b[1;32mimport\u001b[0m \u001b[0msubprocess\u001b[0m\u001b[1;33m\u001b[0m\u001b[1;33m\u001b[0m\u001b[0m\n\u001b[0;32m     31\u001b[0m \u001b[1;32mimport\u001b[0m \u001b[0mmultiprocessing\u001b[0m\u001b[1;33m\u001b[0m\u001b[1;33m\u001b[0m\u001b[0m\n",
      "\u001b[1;32mE:\\anaconda3\\envs\\paddle_11.2\\lib\\site-packages\\numpy\\__init__.py\u001b[0m in \u001b[0;36m<module>\u001b[1;34m\u001b[0m\n\u001b[0;32m    148\u001b[0m     \u001b[1;32mfrom\u001b[0m \u001b[1;33m.\u001b[0m \u001b[1;32mimport\u001b[0m \u001b[0m_distributor_init\u001b[0m\u001b[1;33m\u001b[0m\u001b[1;33m\u001b[0m\u001b[0m\n\u001b[0;32m    149\u001b[0m \u001b[1;33m\u001b[0m\u001b[0m\n\u001b[1;32m--> 150\u001b[1;33m     \u001b[1;32mfrom\u001b[0m \u001b[1;33m.\u001b[0m \u001b[1;32mimport\u001b[0m \u001b[0mcore\u001b[0m\u001b[1;33m\u001b[0m\u001b[1;33m\u001b[0m\u001b[0m\n\u001b[0m\u001b[0;32m    151\u001b[0m     \u001b[1;32mfrom\u001b[0m \u001b[1;33m.\u001b[0m\u001b[0mcore\u001b[0m \u001b[1;32mimport\u001b[0m \u001b[1;33m*\u001b[0m\u001b[1;33m\u001b[0m\u001b[1;33m\u001b[0m\u001b[0m\n\u001b[0;32m    152\u001b[0m     \u001b[1;32mfrom\u001b[0m \u001b[1;33m.\u001b[0m \u001b[1;32mimport\u001b[0m \u001b[0mcompat\u001b[0m\u001b[1;33m\u001b[0m\u001b[1;33m\u001b[0m\u001b[0m\n",
      "\u001b[1;32mE:\\anaconda3\\envs\\paddle_11.2\\lib\\site-packages\\numpy\\core\\__init__.py\u001b[0m in \u001b[0;36m<module>\u001b[1;34m\u001b[0m\n\u001b[0;32m     46\u001b[0m \"\"\" % (sys.version_info[0], sys.version_info[1], sys.executable,\n\u001b[0;32m     47\u001b[0m         __version__, exc)\n\u001b[1;32m---> 48\u001b[1;33m     \u001b[1;32mraise\u001b[0m \u001b[0mImportError\u001b[0m\u001b[1;33m(\u001b[0m\u001b[0mmsg\u001b[0m\u001b[1;33m)\u001b[0m\u001b[1;33m\u001b[0m\u001b[1;33m\u001b[0m\u001b[0m\n\u001b[0m\u001b[0;32m     49\u001b[0m \u001b[1;32mfinally\u001b[0m\u001b[1;33m:\u001b[0m\u001b[1;33m\u001b[0m\u001b[1;33m\u001b[0m\u001b[0m\n\u001b[0;32m     50\u001b[0m     \u001b[1;32mfor\u001b[0m \u001b[0menvkey\u001b[0m \u001b[1;32min\u001b[0m \u001b[0menv_added\u001b[0m\u001b[1;33m:\u001b[0m\u001b[1;33m\u001b[0m\u001b[1;33m\u001b[0m\u001b[0m\n",
      "\u001b[1;31mImportError\u001b[0m: \n\nIMPORTANT: PLEASE READ THIS FOR ADVICE ON HOW TO SOLVE THIS ISSUE!\n\nImporting the numpy C-extensions failed. This error can happen for\nmany reasons, often due to issues with your setup or how NumPy was\ninstalled.\n\nWe have compiled some common reasons and troubleshooting tips at:\n\n    https://numpy.org/devdocs/user/troubleshooting-importerror.html\n\nPlease note and check the following:\n\n  * The Python version is: Python3.7 from \"E:\\anaconda3\\envs\\paddle_11.2\\python.exe\"\n  * The NumPy version is: \"1.21.6\"\n\nand make sure that they are the versions you expect.\nPlease carefully study the documentation linked above for further help.\n\nOriginal error was: DLL load failed: 找不到指定的模块。\n"
     ]
    }
   ],
   "source": [
    "import paddle"
   ]
  }
 ],
 "metadata": {
  "kernelspec": {
   "display_name": "paddle_11.2",
   "language": "python",
   "name": "paddle_11.2"
  },
  "language_info": {
   "codemirror_mode": {
    "name": "ipython",
    "version": 3
   },
   "file_extension": ".py",
   "mimetype": "text/x-python",
   "name": "python",
   "nbconvert_exporter": "python",
   "pygments_lexer": "ipython3",
   "version": "3.7.4"
  }
 },
 "nbformat": 4,
 "nbformat_minor": 5
}
